{
 "cells": [
  {
   "cell_type": "markdown",
   "metadata": {},
   "source": [
    "Tutorial for Object Detection Evaluation"
   ]
  },
  {
   "cell_type": "markdown",
   "metadata": {},
   "source": [
    "Transform Groundtruth from PandaSet+ Format to KITTI Format "
   ]
  },
  {
   "cell_type": "code",
   "execution_count": 2,
   "metadata": {},
   "outputs": [],
   "source": [
    "from pandaset2kitti import format_trans\n",
    "import os\n",
    "\n",
    "def folder_create(path):\n",
    "    if not os.path.exists(path):\n",
    "        os.mkdir(path)\n",
    "\n",
    "raw_gt_path = \"../annotations/objects/test\"\n",
    "\n",
    "# Please put kitti format inference results here, make sure of using correct form\n",
    "det_path = \"./kitti_format_det\"\n",
    "\n",
    "# path of ground truth in kitti format, to create a new folder\n",
    "gt_path = \"./kitti_format_gt\"\n",
    "folder_create(gt_path)\n",
    "\n",
    "# transform GT from PandaSet format to KITTI format\n",
    "format_trans(raw_gt_path, gt_path, camera=\"back_camera\")"
   ]
  },
  {
   "cell_type": "markdown",
   "metadata": {},
   "source": [
    "Index Generation"
   ]
  },
  {
   "cell_type": "code",
   "execution_count": 3,
   "metadata": {},
   "outputs": [],
   "source": [
    "label_index = os.listdir(gt_path)\n",
    "with open(\"index.txt\", \"w\") as f:\n",
    "    for label in label_index:\n",
    "        f.writelines(label.rstrip(\".txt\") + \"\\n\")"
   ]
  },
  {
   "cell_type": "markdown",
   "metadata": {},
   "source": [
    "Evaluation"
   ]
  },
  {
   "cell_type": "code",
   "execution_count": 5,
   "metadata": {},
   "outputs": [
    {
     "name": "stdout",
     "output_type": "stream",
     "text": [
      "\n",
      "----------- AP11 Results ------------\n",
      "\n",
      "Car AP11@0.70, 0.50, 0.50:\n",
      "bbox AP11:0.0000, 0.0000, 0.0000\n",
      "bev  AP11:52.2546, 34.3552, 17.4016\n",
      "3d   AP11:50.0684, 33.3106, 17.0333\n",
      "Truck AP11@0.70, 0.50, 0.50:\n",
      "bbox AP11:0.0000, 0.0000, 0.0000\n",
      "bev  AP11:37.6080, 26.2375, 13.0333\n",
      "3d   AP11:20.6269, 14.0779, 8.3333\n",
      "Bus AP11@0.70, 0.50, 0.50:\n",
      "bbox AP11:0.0000, 0.0000, 0.0000\n",
      "bev  AP11:0.0000, 9.0909, 9.0909\n",
      "3d   AP11:0.0000, 9.0909, 9.0909\n",
      "Bicycle AP11@0.50, 0.25, 0.25:\n",
      "bbox AP11:0.0000, 0.0000, 0.0000\n",
      "bev  AP11:3.0303, 3.0303, 3.0303\n",
      "3d   AP11:3.0303, 3.0303, 3.0303\n",
      "Person AP11@0.50, 0.25, 0.25:\n",
      "bbox AP11:0.0000, 0.0000, 0.0000\n",
      "bev  AP11:1.0333, 0.5770, 0.4090\n",
      "3d   AP11:1.0089, 0.5596, 0.3859\n",
      "\n",
      "Overall AP11@easy, moderate, hard:\n",
      "bbox AP11:0.0000, 0.0000, 0.0000\n",
      "bev  AP11:18.7852, 14.6582, 8.5930\n",
      "3d   AP11:14.9469, 12.0139, 7.5747\n",
      "\n",
      "----------- AP40 Results ------------\n",
      "\n",
      "Car AP40@0.70, 0.50, 0.50:\n",
      "bbox AP40:0.0000, 0.0000, 0.0000\n",
      "bev  AP40:50.9902, 31.7938, 12.7692\n",
      "3d   AP40:48.5273, 30.0381, 12.2275\n",
      "Truck AP40@0.70, 0.50, 0.50:\n",
      "bbox AP40:0.0000, 0.0000, 0.0000\n",
      "bev  AP40:36.5172, 23.4386, 9.2017\n",
      "3d   AP40:18.5051, 11.9756, 4.4045\n",
      "Bus AP40@0.70, 0.50, 0.50:\n",
      "bbox AP40:0.0000, 0.0000, 0.0000\n",
      "bev  AP40:0.0000, 2.8448, 0.4762\n",
      "3d   AP40:0.0000, 2.8448, 0.3968\n",
      "Bicycle AP40@0.50, 0.25, 0.25:\n",
      "bbox AP40:0.0000, 0.0000, 0.0000\n",
      "bev  AP40:0.4417, 0.3310, 0.1651\n",
      "3d   AP40:0.1914, 0.2370, 0.1297\n",
      "Person AP40@0.50, 0.25, 0.25:\n",
      "bbox AP40:0.0000, 0.0000, 0.0000\n",
      "bev  AP40:0.5799, 0.3235, 0.1125\n",
      "3d   AP40:0.5724, 0.3084, 0.1061\n",
      "\n",
      "Overall AP40@easy, moderate, hard:\n",
      "bbox AP40:0.0000, 0.0000, 0.0000\n",
      "bev  AP40:17.7058, 11.7463, 4.5449\n",
      "3d   AP40:13.5592, 9.0808, 3.4529\n",
      "\n"
     ]
    }
   ],
   "source": [
    "import kitti_common as kitti\n",
    "from eval import kitti_eval\n",
    "\n",
    "def _read_imageset_file(path):\n",
    "    with open(path, 'r') as f:\n",
    "        lines = f.readlines()\n",
    "    return [int(line) for line in lines]\n",
    "\n",
    "gt_split_file = \"index.txt\"\n",
    "image_ids = _read_imageset_file(gt_split_file)\n",
    "dt_annos = kitti.get_label_annos(det_path, image_ids)\n",
    "gt_annos = kitti.get_label_annos(gt_path, image_ids)\n",
    "current_classes = ['Car', 'Truck', 'Bus', 'Bicycle', 'Person']\n",
    "\n",
    "# evaluation, iou = 0.5 or 0.7\n",
    "result, ret_dict = kitti_eval(gt_annos, dt_annos, current_classes, iou=0.5)\n",
    "print(result)"
   ]
  }
 ],
 "metadata": {
  "kernelspec": {
   "display_name": "Python 3",
   "language": "python",
   "name": "python3"
  },
  "language_info": {
   "codemirror_mode": {
    "name": "ipython",
    "version": 3
   },
   "file_extension": ".py",
   "mimetype": "text/x-python",
   "name": "python",
   "nbconvert_exporter": "python",
   "pygments_lexer": "ipython3",
   "version": "3.7.6"
  }
 },
 "nbformat": 4,
 "nbformat_minor": 2
}
