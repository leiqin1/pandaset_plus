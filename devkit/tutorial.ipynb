{
 "cells": [
  {
   "cell_type": "markdown",
   "metadata": {},
   "source": [
    "Tutorial for Object Detection Evaluation"
   ]
  },
  {
   "cell_type": "markdown",
   "metadata": {},
   "source": [
    "Transform Groundtruth from PandaSet+ Format to KITTI Format "
   ]
  },
  {
   "cell_type": "code",
   "execution_count": 2,
   "metadata": {},
   "outputs": [],
   "source": [
    "from pandaset2kitti import format_trans\n",
    "import os\n",
    "\n",
    "def folder_create(path):\n",
    "    if not os.path.exists(path):\n",
    "        os.mkdir(path)\n",
    "\n",
    "raw_gt_path = \"../annotations/objects/test\"\n",
    "\n",
    "# Please put kitti format inference results here, make sure of using correct form\n",
    "det_path = \"./kitti_format_det\"\n",
    "\n",
    "# path of ground truth in kitti format, to create a new folder\n",
    "gt_path = \"./kitti_format_gt\"\n",
    "folder_create(gt_path)\n",
    "\n",
    "# transform GT from PandaSet format to KITTI format\n",
    "format_trans(raw_gt_path, gt_path, camera=\"back_camera\")"
   ]
  },
  {
   "cell_type": "markdown",
   "metadata": {},
   "source": [
    "Index Generation"
   ]
  },
  {
   "cell_type": "code",
   "execution_count": 3,
   "metadata": {},
   "outputs": [],
   "source": [
    "label_index = os.listdir(gt_path)\n",
    "with open(\"index.txt\", \"w\") as f:\n",
    "    for label in label_index:\n",
    "        f.writelines(label.rstrip(\".txt\") + \"\\n\")"
   ]
  },
  {
   "cell_type": "markdown",
   "metadata": {},
   "source": [
    "Evaluation"
   ]
  },
  {
   "cell_type": "code",
   "execution_count": null,
   "metadata": {},
   "outputs": [],
   "source": [
    "import kitti_common as kitti\n",
    "from eval import kitti_eval\n",
    "\n",
    "def _read_imageset_file(path):\n",
    "    with open(path, 'r') as f:\n",
    "        lines = f.readlines()\n",
    "    return [int(line) for line in lines]\n",
    "\n",
    "gt_split_file = \"index.txt\"\n",
    "image_ids = _read_imageset_file(gt_split_file)\n",
    "dt_annos = kitti.get_label_annos(det_path, image_ids)\n",
    "gt_annos = kitti.get_label_annos(gt_path, image_ids)\n",
    "current_classes = ['Car', 'Truck', 'Bus', 'Bicycle', 'Person']\n",
    "\n",
    "# evaluation, iou = 0.5 or 0.7\n",
    "result, ret_dict = kitti_eval(gt_annos, dt_annos, current_classes, iou=0.5)\n",
    "print(result)"
   ]
  }
 ],
 "metadata": {
  "kernelspec": {
   "display_name": "Python 3",
   "language": "python",
   "name": "python3"
  },
  "language_info": {
   "codemirror_mode": {
    "name": "ipython",
    "version": 3
   },
   "file_extension": ".py",
   "mimetype": "text/x-python",
   "name": "python",
   "nbconvert_exporter": "python",
   "pygments_lexer": "ipython3",
   "version": "3.7.6"
  }
 },
 "nbformat": 4,
 "nbformat_minor": 2
}
