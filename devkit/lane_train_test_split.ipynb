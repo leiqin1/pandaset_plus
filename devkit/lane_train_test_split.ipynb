{
 "cells": [
  {
   "cell_type": "code",
   "execution_count": 8,
   "metadata": {},
   "outputs": [],
   "source": [
    "import os\n",
    "import shutil\n",
    "\n",
    "def generate_split(path, train_seq, test_seq):\n",
    "    path_train = os.path.join(path, \"train\")\n",
    "    path_test = os.path.join(path, \"test\")\n",
    "    if not os.path.exists(path_train):\n",
    "        os.mkdir(path_train)\n",
    "    if not os.path.exists(path_test):\n",
    "        os.mkdir(path_test)\n",
    "    for seq in train_seq:\n",
    "        shutil.copytree(os.path.join(path, seq), os.path.join(path_train, seq))\n",
    "    for seq in test_seq:\n",
    "        shutil.copytree(os.path.join(path, seq), os.path.join(path_test, seq))"
   ]
  },
  {
   "cell_type": "markdown",
   "metadata": {},
   "source": [
    "Split 3D lane annotations into train and test splits"
   ]
  },
  {
   "cell_type": "code",
   "execution_count": 9,
   "metadata": {},
   "outputs": [],
   "source": [
    "camera_list = [\"front_camera\", \"back_camera\", \"left_camera\", \"right_camera\", \"front_left_camera\", \"front_right_camera\"]\n",
    "train_seq = [\"001\", \"002\", \"003\", \"005\", \"008\", \"011\", \"012\", \"013\", \"014\", \"016\", \"017\",\n",
    "             \"018\", \"019\", \"020\", \"023\", \"024\", \"039\", \"042\", \"043\", \"044\", \"045\", \"046\",\n",
    "             \"050\", \"051\", \"052\", \"053\", \"056\", \"057\", \"063\", \"064\", \"065\", \"066\", \"068\",\n",
    "             \"072\", \"073\", \"074\", \"079\", \"080\", \"084\", \"085\", \"086\", \"088\", \"089\", \"091\",\n",
    "             \"092\", \"094\", \"095\", \"097\", \"099\", \"100\", \"101\", \"102\", \"103\", \"104\", \"106\",\n",
    "             \"109\", \"110\", \"113\", \"115\", \"117\", \"119\", \"120\", \"122\", \"124\", \"158\"]\n",
    "test_seq = [\"006\", \"015\", \"021\", \"041\", \"047\", \"055\", \"059\", \"077\", \"090\", \"093\", \"098\",\n",
    "            \"105\", \"112\", \"116\", \"123\"]\n",
    "for camera_name in camera_list:\n",
    "    path = os.path.join(\"../annotations/lanes/lanes_3D/camera_coordinate\", camera_name)\n",
    "    generate_split(path, train_seq, test_seq)"
   ]
  },
  {
   "cell_type": "markdown",
   "metadata": {},
   "source": [
    "Split 2D lane annotations into train and test splits"
   ]
  },
  {
   "cell_type": "code",
   "execution_count": null,
   "metadata": {},
   "outputs": [],
   "source": [
    "train_seq_front = [\"001\", \"002\", \"003\", \"005\", \"008\", \"011\", \"012\", \"013\", \"014\", \"017\",\n",
    "                    \"018\", \"019\", \"020\", \"023\", \"024\", \"032\", \"039\", \"042\", \"043\", \"045\",\n",
    "                    \"046\", \"050\", \"051\", \"052\", \"056\", \"057\", \"063\", \"064\", \"065\", \"066\",\n",
    "                    \"073\", \"074\", \"079\", \"080\", \"084\", \"085\", \"086\", \"088\", \"089\", \"091\",\n",
    "                    \"092\", \"095\", \"097\", \"099\", \"100\", \"101\", \"102\", \"103\", \"104\", \"106\",\n",
    "                    \"109\", \"110\", \"113\", \"115\", \"117\", \"119\", \"120\", \"122\", \"124\", \"158\"]\n",
    "test_seq_front = [\"006\", \"015\", \"021\", \"041\", \"047\", \"055\", \"059\", \"077\", \"090\", \"093\", \"098\",\n",
    "                \"105\", \"112\", \"116\", \"123\"]\n",
    "train_seq_rear = [\"001\", \"002\", \"005\", \"008\", \"012\", \"013\", \"014\", \"015\", \"017\", \"018\",\n",
    "                \"019\", \"020\", \"021\", \"024\", \"032\", \"041\", \"042\", \"043\", \"045\", \"046\", \n",
    "                \"047\", \"050\", \"051\", \"053\", \"055\", \"057\", \"059\", \"063\", \"065\", \"066\",\n",
    "                \"070\", \"073\", \"074\", \"078\", \"080\", \"084\", \"085\", \"086\", \"088\", \"091\",\n",
    "                \"092\", \"093\", \"095\", \"097\", \"098\", \"099\", \"100\", \"101\", \"102\", \"104\",\n",
    "                \"106\", \"109\", \"110\", \"113\", \"115\", \"117\", \"119\", \"122\", \"123\", \"158\"]\n",
    "test_seq_rear = [\"003\", \"011\", \"016\", \"023\", \"044\", \"056\", \"072\", \"089\", \"094\", \"116\", \"124\"]\n",
    "\n",
    "camera_name = \"front_camera\"\n",
    "path = os.path.join(\"../annotations/lanes/lanes_2D\", camera_name)\n",
    "generate_split(path, train_seq_front, test_seq_front)\n",
    "camera_name = \"back_camera\"\n",
    "path = os.path.join(\"../annotations/lanes/lanes_2D\", camera_name)\n",
    "generate_split(path, train_seq_rear, test_seq_rear)"
   ]
  }
 ],
 "metadata": {
  "kernelspec": {
   "display_name": "Python 3",
   "language": "python",
   "name": "python3"
  },
  "language_info": {
   "codemirror_mode": {
    "name": "ipython",
    "version": 3
   },
   "file_extension": ".py",
   "mimetype": "text/x-python",
   "name": "python",
   "nbconvert_exporter": "python",
   "pygments_lexer": "ipython3",
   "version": "3.8.6"
  }
 },
 "nbformat": 4,
 "nbformat_minor": 2
}
